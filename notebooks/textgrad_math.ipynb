{
 "cells": [
  {
   "cell_type": "code",
   "execution_count": null,
   "metadata": {},
   "outputs": [],
   "source": [
    "problem = \"A rectangle has a length that is 3 units longer than its width. If the perimeter of the rectangle is 26 units, what are the dimensions of the rectangle?\""
   ]
  },
  {
   "cell_type": "code",
   "execution_count": 7,
   "metadata": {},
   "outputs": [],
   "source": [
    "import textgrad as tg\n",
    "solution = tg.Variable(problem,\n",
    "                       requires_grad=True,\n",
    "                       role_description=\"expert math problem solver\")"
   ]
  },
  {
   "cell_type": "code",
   "execution_count": 9,
   "metadata": {},
   "outputs": [
    {
     "data": {
      "text/plain": [
       "Variable(value=To find the dimensions of the rectangle, we can set up equations based on the information given.\n",
       "\n",
       "Let's denote the width of the rectangle as \\( w \\). According to the problem, the length of the rectangle is 3 units longer than its width, so we can express the length as \\( l = w + 3 \\).\n",
       "\n",
       "The formula for the perimeter \\( P \\) of a rectangle is given by:\n",
       "\n",
       "\\[\n",
       "P = 2l + 2w\n",
       "\\]\n",
       "\n",
       "We know the perimeter is 26 units, so we can substitute the values into the equation:\n",
       "\n",
       "\\[\n",
       "2(w + 3) + 2w = 26\n",
       "\\]\n",
       "\n",
       "Simplify and solve for \\( w \\):\n",
       "\n",
       "\\[\n",
       "2w + 6 + 2w = 26\n",
       "\\]\n",
       "\n",
       "Combine like terms:\n",
       "\n",
       "\\[\n",
       "4w + 6 = 26\n",
       "\\]\n",
       "\n",
       "Subtract 6 from both sides:\n",
       "\n",
       "\\[\n",
       "4w = 20\n",
       "\\]\n",
       "\n",
       "Divide by 4:\n",
       "\n",
       "\\[\n",
       "w = 5\n",
       "\\]\n",
       "\n",
       "Now that we have the width, we can find the length using \\( l = w + 3 \\):\n",
       "\n",
       "\\[\n",
       "l = 5 + 3 = 8\n",
       "\\]\n",
       "\n",
       "Therefore, the dimensions of the rectangle are a width of 5 units and a length of 8 units., role=response from the language model, grads=set())"
      ]
     },
     "execution_count": 9,
     "metadata": {},
     "output_type": "execute_result"
    }
   ],
   "source": [
    "loss_system_prompt = tg.Variable(\"\"\"You will try to solve the math problem.\"\"\",\n",
    "                                 requires_grad=False,\n",
    "                                 role_description=\"system prompt\")\n",
    "tg.set_backward_engine(tg.get_engine(\"gpt-4o\"))\n",
    "loss_fn = tg.TextLoss(loss_system_prompt)\n",
    "optimizer = tg.TGD([solution])\n",
    "loss = loss_fn(solution)\n",
    "loss"
   ]
  },
  {
   "cell_type": "code",
   "execution_count": null,
   "metadata": {},
   "outputs": [
    {
     "name": "stdout",
     "output_type": "stream",
     "text": [
      "To solve the problem of finding the dimensions of the rectangle, let's start by defining the variables clearly. Let the width of the rectangle be \\( w \\) units and the length be \\( l \\) units. According to the problem, the length is 3 units longer than the width, so we can express the length as \\( l = w + 3 \\).\n",
      "\n",
      "The formula for the perimeter \\( P \\) of a rectangle is given by:\n",
      "\n",
      "\\[\n",
      "P = 2l + 2w\n",
      "\\]\n",
      "\n",
      "We know the perimeter is 26 units, so we can substitute the values into the equation:\n",
      "\n",
      "\\[\n",
      "2(w + 3) + 2w = 26\n",
      "\\]\n",
      "\n",
      "Simplify and solve for \\( w \\):\n",
      "\n",
      "\\[\n",
      "2w + 6 + 2w = 26\n",
      "\\]\n",
      "\n",
      "Combine like terms:\n",
      "\n",
      "\\[\n",
      "4w + 6 = 26\n",
      "\\]\n",
      "\n",
      "Subtract 6 from both sides:\n",
      "\n",
      "\\[\n",
      "4w = 20\n",
      "\\]\n",
      "\n",
      "Divide by 4:\n",
      "\n",
      "\\[\n",
      "w = 5 \\text{ units}\n",
      "\\]\n",
      "\n",
      "Now that we have the width, we can find the length using \\( l = w + 3 \\):\n",
      "\n",
      "\\[\n",
      "l = 5 + 3 = 8 \\text{ units}\n",
      "\\]\n",
      "\n",
      "Therefore, the dimensions of the rectangle are a width of 5 units and a length of 8 units.\n",
      "\n",
      "**Verification Step**: Let's verify that these dimensions satisfy the original perimeter condition. Substitute back into the perimeter formula:\n",
      "\n",
      "\\[\n",
      "2(8) + 2(5) = 16 + 10 = 26 \\text{ units}\n",
      "\\]\n",
      "\n",
      "This matches the given perimeter, confirming our solution is correct.\n",
      "\n",
      "**Alternative Methods**: Another way to solve this problem could be by setting up a system of equations or using substitution. Exploring different methods can provide a broader perspective on problem-solving techniques.\n",
      "\n",
      "**Engagement with the Reader**: Consider this: What if the length were 4 units longer than the width? How would that change our approach? Engaging with such questions can deepen understanding and encourage critical thinking.\n"
     ]
    },
    {
     "ename": "",
     "evalue": "",
     "output_type": "error",
     "traceback": [
      "\u001b[1;31mThe Kernel crashed while executing code in the current cell or a previous cell. \n",
      "\u001b[1;31mPlease review the code in the cell(s) to identify a possible cause of the failure. \n",
      "\u001b[1;31mClick <a href='https://aka.ms/vscodeJupyterKernelCrash'>here</a> for more info. \n",
      "\u001b[1;31mView Jupyter <a href='command:jupyter.viewOutput'>log</a> for further details."
     ]
    }
   ],
   "source": [
    "loss.backward()\n",
    "optimizer.step()\n",
    "print(solution.value)"
   ]
  }
 ],
 "metadata": {
  "kernelspec": {
   "display_name": "venv",
   "language": "python",
   "name": "python3"
  },
  "language_info": {
   "codemirror_mode": {
    "name": "ipython",
    "version": 3
   },
   "file_extension": ".py",
   "mimetype": "text/x-python",
   "name": "python",
   "nbconvert_exporter": "python",
   "pygments_lexer": "ipython3",
   "version": "3.11.9"
  }
 },
 "nbformat": 4,
 "nbformat_minor": 2
}
