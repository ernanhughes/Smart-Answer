{
 "cells": [
  {
   "cell_type": "code",
   "execution_count": 2,
   "metadata": {},
   "outputs": [],
   "source": [
    "import io\n",
    "from PIL import Image\n",
    "import textgrad as tg\n",
    "from textgrad import get_engine\n",
    "from textgrad.autograd import MultimodalLLMCall\n",
    "from textgrad.loss import ImageQALoss"
   ]
  },
  {
   "cell_type": "code",
   "execution_count": null,
   "metadata": {},
   "outputs": [
    {
     "ename": "NameError",
     "evalue": "name 'OpenAI' is not defined",
     "output_type": "error",
     "traceback": [
      "\u001b[1;31m---------------------------------------------------------------------------\u001b[0m",
      "\u001b[1;31mNameError\u001b[0m                                 Traceback (most recent call last)",
      "Cell \u001b[1;32mIn[4], line 3\u001b[0m\n\u001b[0;32m      1\u001b[0m \u001b[38;5;28;01mimport\u001b[39;00m\u001b[38;5;250m \u001b[39m\u001b[38;5;21;01mopenai\u001b[39;00m\n\u001b[1;32m----> 3\u001b[0m client \u001b[38;5;241m=\u001b[39m \u001b[43mOpenAI\u001b[49m(base_url\u001b[38;5;241m=\u001b[39m\u001b[38;5;124m\"\u001b[39m\u001b[38;5;124mhttp://localhost:1234/v1\u001b[39m\u001b[38;5;124m\"\u001b[39m, api_key\u001b[38;5;241m=\u001b[39m\u001b[38;5;124m\"\u001b[39m\u001b[38;5;124mlm-studio\u001b[39m\u001b[38;5;124m\"\u001b[39m)\n\u001b[0;32m      4\u001b[0m engine \u001b[38;5;241m=\u001b[39m ChatExternalClient(client\u001b[38;5;241m=\u001b[39mclient, model_string\u001b[38;5;241m=\u001b[39m\u001b[38;5;124m'\u001b[39m\u001b[38;5;124mlmstudio-community/Qwen2.5-7B-Instruct-1M-GGUF\u001b[39m\u001b[38;5;124m'\u001b[39m)\n\u001b[0;32m      5\u001b[0m tg\u001b[38;5;241m.\u001b[39mset_backward_engine(\u001b[38;5;124m\"\u001b[39m\u001b[38;5;124mgpt-4o\u001b[39m\u001b[38;5;124m\"\u001b[39m, override\u001b[38;5;241m=\u001b[39m\u001b[38;5;28;01mTrue\u001b[39;00m)\n",
      "\u001b[1;31mNameError\u001b[0m: name 'OpenAI' is not defined"
     ]
    },
    {
     "ename": "",
     "evalue": "",
     "output_type": "error",
     "traceback": [
      "\u001b[1;31mThe Kernel crashed while executing code in the current cell or a previous cell. \n",
      "\u001b[1;31mPlease review the code in the cell(s) to identify a possible cause of the failure. \n",
      "\u001b[1;31mClick <a href='https://aka.ms/vscodeJupyterKernelCrash'>here</a> for more info. \n",
      "\u001b[1;31mView Jupyter <a href='command:jupyter.viewOutput'>log</a> for further details."
     ]
    }
   ],
   "source": [
    "import openai\n",
    "\n",
    "client = OpenAI(base_url=\"http://localhost:1234/v1\", api_key=\"lm-studio\")\n",
    "engine = ChatExternalClient(client=client, model_string='lmstudio-community/Qwen2.5-7B-Instruct-1M-GGUF')\n",
    "tg.set_backward_engine(\"gpt-4o\", override=True)\n"
   ]
  },
  {
   "cell_type": "code",
   "execution_count": 5,
   "metadata": {},
   "outputs": [
    {
     "name": "stdout",
     "output_type": "stream",
     "text": [
      "b'\\x89PNG\\r\\n\\x1a\\n\\x00\\x00'\n"
     ]
    }
   ],
   "source": [
    "# import httpx\n",
    "\n",
    "# Import necessary library\n",
    "import httpx\n",
    "\n",
    "# Path to the local image\n",
    "image_path = \"176.png\"\n",
    "# Read the local image file in binary mode\n",
    "with open(image_path, 'rb') as file:\n",
    "    image_data = file.read()\n",
    "\n",
    "# Print the first few bytes of the image data to verify (optional)\n",
    "print(image_data[:10])"
   ]
  },
  {
   "cell_type": "code",
   "execution_count": 6,
   "metadata": {},
   "outputs": [
    {
     "data": {
      "text/plain": [
       "'Hint: Please answer the question and provide the correct option letter, e.g., A, B, C, D, at the end. \\nQuestion: Find $RS$ if $\\triangle QRS$ is an equilateral triangle. \\nChoices: (A) 0.5 (B) 1 (C) 1.5 (D) 2'"
      ]
     },
     "execution_count": 6,
     "metadata": {},
     "output_type": "execute_result"
    }
   ],
   "source": [
    "image_variable = tg.Variable(image_data, role_description=\"image to answer a question about\", requires_grad=False)\n",
    "\n",
    "# MathVista-176, ground truth = (D) 2\n",
    "question_text = \"\"\"\n",
    "Hint: Please answer the question and provide the correct option letter, e.g., A, B, C, D, at the end. \n",
    "Question: Find $RS$ if $\\triangle QRS$ is an equilateral triangle. \n",
    "Choices: (A) 0.5 (B) 1 (C) 1.5 (D) 2\n",
    "\"\"\"\n",
    "question_text = question_text.strip()\n",
    "question_text"
   ]
  },
  {
   "cell_type": "code",
   "execution_count": 7,
   "metadata": {},
   "outputs": [
    {
     "data": {
      "text/plain": [
       "Variable(value=Hint: Please answer the question and provide the correct option letter, e.g., A, B, C, D, at the end. \n",
       "Question: Find $RS$ if $\triangle QRS$ is an equilateral triangle. \n",
       "Choices: (A) 0.5 (B) 1 (C) 1.5 (D) 2, role=question, grads=set())"
      ]
     },
     "execution_count": 7,
     "metadata": {},
     "output_type": "execute_result"
    }
   ],
   "source": [
    "question_variable = tg.Variable(question_text, role_description=\"question\", requires_grad=False)\n",
    "question_variable"
   ]
  },
  {
   "cell_type": "code",
   "execution_count": null,
   "metadata": {},
   "outputs": [
    {
     "data": {
      "text/plain": [
       "Variable(value=In an equilateral triangle, all sides are equal. Therefore, we have:\n",
       "\n",
       "\\[ 4x = 2x + 1 = 6x - 1 \\]\n",
       "\n",
       "First, equate \\(4x\\) and \\(2x + 1\\):\n",
       "\n",
       "\\[ 4x = 2x + 1 \\]\n",
       "\n",
       "Subtract \\(2x\\) from both sides:\n",
       "\n",
       "\\[ 2x = 1 \\]\n",
       "\n",
       "Divide by 2:\n",
       "\n",
       "\\[ x = 0.5 \\]\n",
       "\n",
       "Now, substitute \\(x = 0.5\\) into \\(RS = 2x + 1\\):\n",
       "\n",
       "\\[ RS = 2(0.5) + 1 = 1 + 1 = 2 \\]\n",
       "\n",
       "Thus, \\(RS\\) is 2.\n",
       "\n",
       "The correct option is (D) 2., role=response from the language model, grads=set())"
      ]
     },
     "execution_count": 8,
     "metadata": {},
     "output_type": "execute_result"
    }
   ],
   "source": [
    "engine = ChatExternalClient(client=client, model_string='lmstudio-community/Qwen2.5-7B-Instruct-1M-GGUF')\n",
    "engine.generate(\"Can you outline the heros journey?\")\n",
    "\n",
    "response = MultimodalLLMCall('lmstudio-community/Qwen2.5-7B-Instruct-1M-GGUF')([image_variable, question_variable])\n",
    "response"
   ]
  },
  {
   "cell_type": "code",
   "execution_count": 9,
   "metadata": {},
   "outputs": [
    {
     "data": {
      "image/png": "[encoded data removed]",
      "text/plain": [
       "<PIL.PngImagePlugin.PngImageFile image mode=RGBA size=305x292>"
      ]
     },
     "execution_count": 9,
     "metadata": {},
     "output_type": "execute_result"
    }
   ],
   "source": [
    "Image.open(io.BytesIO(image_data))"
   ]
  },
  {
   "cell_type": "code",
   "execution_count": 10,
   "metadata": {},
   "outputs": [
    {
     "data": {
      "text/plain": [
       "<textgrad.loss.ImageQALoss at 0x1d0ddbf90d0>"
      ]
     },
     "execution_count": 10,
     "metadata": {},
     "output_type": "execute_result"
    }
   ],
   "source": [
    "loss_fn = ImageQALoss(\n",
    "    evaluation_instruction=\"Does this seem like a complete and good answer for the image? Criticize heavily.\",\n",
    "    # engine=\"claude-3-5-sonnet-20240620\"\n",
    "    engine=\"gpt-4o\",\n",
    ")\n",
    "loss_fn"
   ]
  },
  {
   "cell_type": "code",
   "execution_count": 11,
   "metadata": {},
   "outputs": [
    {
     "data": {
      "text/plain": [
       "Variable(value=The answer provided is correct and well-structured. Here's a breakdown of the solution:\n",
       "\n",
       "1. **Understanding the Problem**: The problem involves finding the length of side \\(RS\\) in an equilateral triangle \\(QRS\\), where the sides are given as expressions in terms of \\(x\\).\n",
       "\n",
       "2. **Equilateral Triangle Property**: In an equilateral triangle, all sides are equal. Therefore, the expressions for the sides are set equal to each other: \\(4x = 2x + 1 = 6x - 1\\).\n",
       "\n",
       "3. **Solving for \\(x\\)**:\n",
       "   - First, equate \\(4x\\) and \\(2x + 1\\):\n",
       "     \\[\n",
       "     4x = 2x + 1\n",
       "     \\]\n",
       "   - Subtract \\(2x\\) from both sides:\n",
       "     \\[\n",
       "     2x = 1\n",
       "     \\]\n",
       "   - Divide by 2 to solve for \\(x\\):\n",
       "     \\[\n",
       "     x = 0.5\n",
       "     \\]\n",
       "\n",
       "4. **Substituting \\(x\\) to Find \\(RS\\)**:\n",
       "   - Substitute \\(x = 0.5\\) into the expression for \\(RS\\):\n",
       "     \\[\n",
       "     RS = 2(0.5) + 1 = 1 + 1 = 2\n",
       "     \\]\n",
       "\n",
       "5. **Conclusion**: The length of \\(RS\\) is 2, which corresponds to option (D).\n",
       "\n",
       "The explanation is clear, logical, and follows a step-by-step approach to solving the problem. The final answer is correctly identified as option (D) 2., role=evaluation of the response from the language model, grads=set())"
      ]
     },
     "execution_count": 11,
     "metadata": {},
     "output_type": "execute_result"
    }
   ],
   "source": [
    "loss = loss_fn(question=question_variable, image=image_variable, response=response)\n",
    "loss"
   ]
  },
  {
   "cell_type": "code",
   "execution_count": 12,
   "metadata": {},
   "outputs": [
    {
     "data": {
      "text/plain": [
       "<textgrad.optimizer.optimizer.TextualGradientDescent at 0x1d0dd666790>"
      ]
     },
     "execution_count": 12,
     "metadata": {},
     "output_type": "execute_result"
    }
   ],
   "source": [
    "optimizer = tg.TGD(parameters=[response])\n",
    "optimizer"
   ]
  },
  {
   "cell_type": "code",
   "execution_count": 13,
   "metadata": {},
   "outputs": [
    {
     "name": "stdout",
     "output_type": "stream",
     "text": [
      "In an equilateral triangle, all sides are equal. Therefore, we have:\n",
      "\n",
      "\\[ 4x = 2x + 1 = 6x - 1 \\]\n",
      "\n",
      "To find \\(x\\), we can solve any two of these equations. Let's start with:\n",
      "\n",
      "1. Equate \\(4x\\) and \\(2x + 1\\):\n",
      "\n",
      "   \\[ 4x = 2x + 1 \\]\n",
      "\n",
      "   Subtract \\(2x\\) from both sides:\n",
      "\n",
      "   \\[ 2x = 1 \\]\n",
      "\n",
      "   Divide by 2:\n",
      "\n",
      "   \\[ x = 0.5 \\]\n",
      "\n",
      "2. Verify by substituting \\(x = 0.5\\) into all expressions:\n",
      "\n",
      "   - \\(QR = 4(0.5) = 2\\)\n",
      "   - \\(RS = 2(0.5) + 1 = 2\\)\n",
      "   - \\(QS = 6(0.5) - 1 = 2\\)\n",
      "\n",
      "All sides are equal, confirming the solution's correctness.\n",
      "\n",
      "3. Alternative Approach: You could also solve \\(6x - 1 = 2x + 1\\) to find \\(x\\), which would yield the same result, demonstrating the robustness of the solution.\n",
      "\n",
      "4. Error Handling: If the equations did not yield a consistent value for \\(x\\), it would indicate an error in the problem setup or assumptions.\n",
      "\n",
      "Thus, \\(RS\\) is 2.\n",
      "\n",
      "The correct option is (D) 2.\n"
     ]
    }
   ],
   "source": [
    "loss.backward()\n",
    "optimizer.step()\n",
    "print(response.value)"
   ]
  },
  {
   "cell_type": "code",
   "execution_count": null,
   "metadata": {},
   "outputs": [],
   "source": []
  }
 ],
 "metadata": {
  "kernelspec": {
   "display_name": "venv",
   "language": "python",
   "name": "python3"
  },
  "language_info": {
   "codemirror_mode": {
    "name": "ipython",
    "version": 3
   },
   "file_extension": ".py",
   "mimetype": "text/x-python",
   "name": "python",
   "nbconvert_exporter": "python",
   "pygments_lexer": "ipython3",
   "version": "3.11.9"
  }
 },
 "nbformat": 4,
 "nbformat_minor": 2
}
