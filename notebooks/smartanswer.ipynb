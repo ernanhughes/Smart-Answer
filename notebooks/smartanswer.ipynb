{
 "cells": [
  {
   "cell_type": "code",
   "execution_count": 24,
   "metadata": {},
   "outputs": [],
   "source": [
    "from openai import OpenAI\n",
    "from textgrad.engine.local_model_openai_api import ChatExternalClient\n",
    "\n",
    "MODEL_NAME = \"mlabonne/NeuralBeagle14-7B-GGUF\"\n",
    "client = OpenAI(base_url=\"http://localhost:1234/v1\", api_key=\"lm-studio\")\n",
    "engine = ChatExternalClient(client=client, model_string=MODEL_NAME)"
   ]
  },
  {
   "cell_type": "code",
   "execution_count": 25,
   "metadata": {},
   "outputs": [],
   "source": [
    "import textgrad as tg\n",
    "import numpy as np\n",
    "\n",
    "\n",
    "class SmartAnswer:\n",
    "    def __init__(\n",
    "        self, model_name=MODEL_NAME, confidence_threshold=0.95, max_iterations=3\n",
    "    ):\n",
    "        tg.set_backward_engine(engine, override=True)\n",
    "        self.model = tg.BlackboxLLM(engine=engine)\n",
    "        self.confidence_threshold = confidence_threshold\n",
    "        self.max_iterations = max_iterations\n",
    "\n",
    "    def estimate_confidence(self, response):\n",
    "        \"\"\"\n",
    "        Estimates confidence based on token probabilities using entropy-based normalization.\n",
    "        \"\"\"\n",
    "        token_probs = np.array(\n",
    "            response.token_probabilities\n",
    "        )  # Assuming token_probabilities is available\n",
    "        entropy = -np.sum(token_probs * np.log(token_probs))\n",
    "        normalized_confidence = 1 - (\n",
    "            entropy / np.log(len(token_probs))\n",
    "        )  # Normalize between 0 and 1\n",
    "        return normalized_confidence\n",
    "\n",
    "    def generate_answer(self, question_text):\n",
    "        question = tg.Variable(question_text, role_description=\"question to the LLM\", requires_grad=False)\n",
    "        answer = self.model(question)\n",
    "        answer.confidence = self.estimate_confidence(answer)\n",
    "\n",
    "        # Apply TextGrad optimization\n",
    "        loss_fn = tg.TextLoss(\"Evaluate the answer and suggest improvements.\")\n",
    "        for _ in range(self.max_iterations):\n",
    "            loss = loss_fn(answer)\n",
    "            loss.backward()\n",
    "            optimizer = tg.TGD(parameters=[answer])\n",
    "            optimizer.step()\n",
    "            answer.confidence = self.estimate_confidence(answer)\n",
    "\n",
    "        # Apply Test-Time Scaling\n",
    "        if answer.confidence < self.confidence_threshold:\n",
    "            refined_answer = self.model.compute_more_steps(question)\n",
    "            refined_answer.confidence = self.estimate_confidence(refined_answer)\n",
    "            if refined_answer.confidence > answer.confidence:\n",
    "                answer = refined_answer\n",
    "\n",
    "        # Decide whether to answer or abstain\n",
    "        if answer.confidence >= self.confidence_threshold:\n",
    "            return answer.value\n",
    "        else:\n",
    "            return \"Model chooses to abstain due to low confidence.\""
   ]
  },
  {
   "cell_type": "code",
   "execution_count": 26,
   "metadata": {},
   "outputs": [],
   "source": [
    "class StandardLLM:\n",
    "    def __init__(self, engine=engine):\n",
    "        self.model = tg.BlackboxLLM(engine=engine)\n",
    "\n",
    "    def generate_answer(self, question_text):\n",
    "        question = tg.Variable(question_text, role_description=\"question to the LLM\", requires_grad=False)\n",
    "        return self.model(question).value"
   ]
  },
  {
   "cell_type": "code",
   "execution_count": 27,
   "metadata": {},
   "outputs": [
    {
     "ename": "AttributeError",
     "evalue": "'Variable' object has no attribute 'token_probabilities'",
     "output_type": "error",
     "traceback": [
      "\u001b[1;31m---------------------------------------------------------------------------\u001b[0m",
      "\u001b[1;31mAttributeError\u001b[0m                            Traceback (most recent call last)",
      "Cell \u001b[1;32mIn[27], line 8\u001b[0m\n\u001b[0;32m      5\u001b[0m question_text \u001b[38;5;241m=\u001b[39m \u001b[38;5;124m\"\u001b[39m\u001b[38;5;124mWhat is the capital of France?\u001b[39m\u001b[38;5;124m\"\u001b[39m\n\u001b[0;32m      7\u001b[0m \u001b[38;5;66;03m# Generate responses\u001b[39;00m\n\u001b[1;32m----> 8\u001b[0m smart_response \u001b[38;5;241m=\u001b[39m \u001b[43msmart_answer\u001b[49m\u001b[38;5;241;43m.\u001b[39;49m\u001b[43mgenerate_answer\u001b[49m\u001b[43m(\u001b[49m\u001b[43mquestion_text\u001b[49m\u001b[43m)\u001b[49m\n\u001b[0;32m      9\u001b[0m standard_response \u001b[38;5;241m=\u001b[39m standard_llm\u001b[38;5;241m.\u001b[39mgenerate_answer(question_text)\n\u001b[0;32m     11\u001b[0m \u001b[38;5;28mprint\u001b[39m(\u001b[38;5;124mf\u001b[39m\u001b[38;5;124m\"\u001b[39m\u001b[38;5;124mSmartAnswer Response: \u001b[39m\u001b[38;5;132;01m{\u001b[39;00msmart_response\u001b[38;5;132;01m}\u001b[39;00m\u001b[38;5;124m\"\u001b[39m)\n",
      "Cell \u001b[1;32mIn[25], line 30\u001b[0m, in \u001b[0;36mSmartAnswer.generate_answer\u001b[1;34m(self, question_text)\u001b[0m\n\u001b[0;32m     28\u001b[0m question \u001b[38;5;241m=\u001b[39m tg\u001b[38;5;241m.\u001b[39mVariable(question_text, role_description\u001b[38;5;241m=\u001b[39m\u001b[38;5;124m\"\u001b[39m\u001b[38;5;124mquestion to the LLM\u001b[39m\u001b[38;5;124m\"\u001b[39m, requires_grad\u001b[38;5;241m=\u001b[39m\u001b[38;5;28;01mFalse\u001b[39;00m)\n\u001b[0;32m     29\u001b[0m answer \u001b[38;5;241m=\u001b[39m \u001b[38;5;28mself\u001b[39m\u001b[38;5;241m.\u001b[39mmodel(question)\n\u001b[1;32m---> 30\u001b[0m answer\u001b[38;5;241m.\u001b[39mconfidence \u001b[38;5;241m=\u001b[39m \u001b[38;5;28;43mself\u001b[39;49m\u001b[38;5;241;43m.\u001b[39;49m\u001b[43mestimate_confidence\u001b[49m\u001b[43m(\u001b[49m\u001b[43manswer\u001b[49m\u001b[43m)\u001b[49m\n\u001b[0;32m     32\u001b[0m \u001b[38;5;66;03m# Apply TextGrad optimization\u001b[39;00m\n\u001b[0;32m     33\u001b[0m loss_fn \u001b[38;5;241m=\u001b[39m tg\u001b[38;5;241m.\u001b[39mTextLoss(\u001b[38;5;124m\"\u001b[39m\u001b[38;5;124mEvaluate the answer and suggest improvements.\u001b[39m\u001b[38;5;124m\"\u001b[39m)\n",
      "Cell \u001b[1;32mIn[25], line 19\u001b[0m, in \u001b[0;36mSmartAnswer.estimate_confidence\u001b[1;34m(self, response)\u001b[0m\n\u001b[0;32m     14\u001b[0m \u001b[38;5;28;01mdef\u001b[39;00m\u001b[38;5;250m \u001b[39m\u001b[38;5;21mestimate_confidence\u001b[39m(\u001b[38;5;28mself\u001b[39m, response):\n\u001b[0;32m     15\u001b[0m \u001b[38;5;250m    \u001b[39m\u001b[38;5;124;03m\"\"\"\u001b[39;00m\n\u001b[0;32m     16\u001b[0m \u001b[38;5;124;03m    Estimates confidence based on token probabilities using entropy-based normalization.\u001b[39;00m\n\u001b[0;32m     17\u001b[0m \u001b[38;5;124;03m    \"\"\"\u001b[39;00m\n\u001b[0;32m     18\u001b[0m     token_probs \u001b[38;5;241m=\u001b[39m np\u001b[38;5;241m.\u001b[39marray(\n\u001b[1;32m---> 19\u001b[0m         \u001b[43mresponse\u001b[49m\u001b[38;5;241;43m.\u001b[39;49m\u001b[43mtoken_probabilities\u001b[49m\n\u001b[0;32m     20\u001b[0m     )  \u001b[38;5;66;03m# Assuming token_probabilities is available\u001b[39;00m\n\u001b[0;32m     21\u001b[0m     entropy \u001b[38;5;241m=\u001b[39m \u001b[38;5;241m-\u001b[39mnp\u001b[38;5;241m.\u001b[39msum(token_probs \u001b[38;5;241m*\u001b[39m np\u001b[38;5;241m.\u001b[39mlog(token_probs))\n\u001b[0;32m     22\u001b[0m     normalized_confidence \u001b[38;5;241m=\u001b[39m \u001b[38;5;241m1\u001b[39m \u001b[38;5;241m-\u001b[39m (\n\u001b[0;32m     23\u001b[0m         entropy \u001b[38;5;241m/\u001b[39m np\u001b[38;5;241m.\u001b[39mlog(\u001b[38;5;28mlen\u001b[39m(token_probs))\n\u001b[0;32m     24\u001b[0m     )  \u001b[38;5;66;03m# Normalize between 0 and 1\u001b[39;00m\n",
      "\u001b[1;31mAttributeError\u001b[0m: 'Variable' object has no attribute 'token_probabilities'"
     ]
    }
   ],
   "source": [
    "# Initialize models\n",
    "smart_answer = SmartAnswer()\n",
    "standard_llm = StandardLLM()\n",
    "\n",
    "question_text = \"What is the capital of France?\"\n",
    "\n",
    "# Generate responses\n",
    "smart_response = smart_answer.generate_answer(question_text)\n",
    "standard_response = standard_llm.generate_answer(question_text)\n",
    "\n",
    "print(f\"SmartAnswer Response: {smart_response}\")\n",
    "print(f\"Standard LLM Response: {standard_response}\")\n"
   ]
  },
  {
   "cell_type": "code",
   "execution_count": null,
   "metadata": {},
   "outputs": [],
   "source": []
  }
 ],
 "metadata": {
  "kernelspec": {
   "display_name": "venv",
   "language": "python",
   "name": "python3"
  },
  "language_info": {
   "codemirror_mode": {
    "name": "ipython",
    "version": 3
   },
   "file_extension": ".py",
   "mimetype": "text/x-python",
   "name": "python",
   "nbconvert_exporter": "python",
   "pygments_lexer": "ipython3",
   "version": "3.11.9"
  }
 },
 "nbformat": 4,
 "nbformat_minor": 2
}
