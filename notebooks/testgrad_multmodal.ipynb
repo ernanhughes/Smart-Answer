{
 "cells": [
  {
   "cell_type": "code",
   "execution_count": 2,
   "metadata": {},
   "outputs": [],
   "source": [
    "import io\n",
    "from PIL import Image\n",
    "import textgrad as tg\n",
    "from textgrad.autograd import MultimodalLLMCall\n",
    "from textgrad.loss import ImageQALoss"
   ]
  },
  {
   "cell_type": "code",
   "execution_count": null,
   "metadata": {},
   "outputs": [],
   "source": [
    "tg.set_backward_engine(\"gpt-4o\")\n",
    "\n"
   ]
  },
  {
   "cell_type": "code",
   "execution_count": 4,
   "metadata": {},
   "outputs": [
    {
     "name": "stdout",
     "output_type": "stream",
     "text": [
      "b'\\xff\\xd8\\xff\\xe0\\x00\\x10JFIF'\n"
     ]
    }
   ],
   "source": [
    "image_path = \"bee.jpg\"\n",
    "# Read the local image file in binary mode\n",
    "with open(image_path, 'rb') as file:\n",
    "    image_data = file.read()\n",
    "\n",
    "# Print the first few bytes of the image data to verify (optional)\n",
    "print(image_data[:10])"
   ]
  },
  {
   "cell_type": "code",
   "execution_count": 5,
   "metadata": {},
   "outputs": [],
   "source": [
    "image_variable = tg.Variable(image_data, role_description=\"image to answer a question about\", requires_grad=False)"
   ]
  },
  {
   "cell_type": "code",
   "execution_count": 6,
   "metadata": {},
   "outputs": [
    {
     "data": {
      "text/plain": [
       "Variable(value=This image shows a close-up of a honeybee collecting pollen. The bee is perched on a cluster of flowers, and you can see pollen attached to its hind legs. The details of the bee's body, including its wings, eyes, and fuzzy thorax, are clearly visible., role=response from the language model, grads=set())"
      ]
     },
     "execution_count": 6,
     "metadata": {},
     "output_type": "execute_result"
    }
   ],
   "source": [
    "question_variable = tg.Variable(\"What do you see in this image?\", role_description=\"question\", requires_grad=False)\n",
    "response = MultimodalLLMCall(\"gpt-4o\")([image_variable, question_variable])\n",
    "response"
   ]
  },
  {
   "cell_type": "code",
   "execution_count": 7,
   "metadata": {},
   "outputs": [
    {
     "data": {
      "text/plain": [
       "Variable(value=The answer is mostly complete and accurate. It correctly identifies the main elements of the image: a honeybee collecting pollen, the presence of flowers, and the details of the bee's body. However, it could be improved by mentioning the specific type of flowers or plant if identifiable, and by describing the setting or background to provide more context. Additionally, it could note the color and texture details of the bee and flowers for a more vivid description., role=evaluation of the response from the language model, grads=set())"
      ]
     },
     "execution_count": 7,
     "metadata": {},
     "output_type": "execute_result"
    }
   ],
   "source": [
    "loss_fn = ImageQALoss(\n",
    "    evaluation_instruction=\"Does this seem like a complete and good answer for the image? Criticize. Do not provide a new answer.\",\n",
    "    engine=\"gpt-4o\"\n",
    ")\n",
    "loss = loss_fn(question=question_variable, image=image_variable, response=response)\n",
    "loss"
   ]
  },
  {
   "cell_type": "code",
   "execution_count": 8,
   "metadata": {},
   "outputs": [
    {
     "name": "stdout",
     "output_type": "stream",
     "text": [
      "This image shows a close-up of a honeybee collecting pollen. The bee is perched on a cluster of flowers, possibly from a plant like goldenrod, with pollen visibly attached to its hind legs. The details of the bee's body, including its translucent wings, large compound eyes, and fuzzy thorax, are clearly visible. The bee's distinctive black and yellow stripes add to its vibrant appearance. The background appears to be a natural setting, with earthy tones that complement the scene. This moment captures the bee's vital role in pollination, as it diligently gathers pollen, contributing to the ecosystem. The gentle hum of its wings adds a sense of life and movement to the image.\n"
     ]
    }
   ],
   "source": [
    "optimizer = tg.TGD(parameters=[response])\n",
    "loss.backward()\n",
    "optimizer.step()\n",
    "print(response.value)"
   ]
  }
 ],
 "metadata": {
  "kernelspec": {
   "display_name": "venv",
   "language": "python",
   "name": "python3"
  },
  "language_info": {
   "codemirror_mode": {
    "name": "ipython",
    "version": 3
   },
   "file_extension": ".py",
   "mimetype": "text/x-python",
   "name": "python",
   "nbconvert_exporter": "python",
   "pygments_lexer": "ipython3",
   "version": "3.11.9"
  }
 },
 "nbformat": 4,
 "nbformat_minor": 2
}
